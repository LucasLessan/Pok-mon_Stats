{
  "nbformat": 4,
  "nbformat_minor": 0,
  "metadata": {
    "colab": {
      "name": "Pokémon Stats.ipynb",
      "provenance": [],
      "collapsed_sections": [],
      "authorship_tag": "ABX9TyOm2QMMokeFAwgn+rYnNtIa"
    },
    "kernelspec": {
      "name": "python3",
      "display_name": "Python 3"
    },
    "language_info": {
      "name": "python"
    }
  },
  "cells": [
    {
      "cell_type": "markdown",
      "metadata": {
        "id": "b0me452_sh7E"
      },
      "source": [
        "# 1. Introdução\n",
        "\n",
        "Nesse notebook iremos utilizar uma base de dados com algumas informações sobre suicídios nos países, para tentar entender fatores que influenciam nessa decisão."
      ]
    },
    {
      "cell_type": "markdown",
      "metadata": {
        "id": "d9-cXfALspHi"
      },
      "source": [
        "# 2. Imports e Funções\n"
      ]
    },
    {
      "cell_type": "code",
      "metadata": {
        "id": "1O303hQUz7C2"
      },
      "source": [
        "# Para evitar avisos que iriam atrapalhar a visualização de dados\n",
        "from warnings import filterwarnings\n",
        "\n",
        "filterwarnings(\"ignore\",category=DeprecationWarning)\n",
        "filterwarnings(\"ignore\", category=FutureWarning) \n",
        "filterwarnings(\"ignore\", category=UserWarning)\n",
        "filterwarnings(\"ignore\", category=RuntimeWarning)\n",
        "\n",
        "# Pacote de ML utilizado\n",
        "from sklearn.model_selection import train_test_split, GridSearchCV, StratifiedKFold\n",
        "from sklearn.preprocessing import StandardScaler, PolynomialFeatures\n",
        "from sklearn.linear_model import LinearRegression, Lasso, Ridge\n",
        "from sklearn.neighbors import KNeighborsRegressor, KNeighborsClassifier\n",
        "from sklearn.pipeline import Pipeline\n",
        "from sklearn.metrics import precision_score\n",
        "\n",
        "# Ferramentas Estatísticas\n",
        "from statsmodels.distributions.empirical_distribution import ECDF\n",
        "from scipy import stats as ss\n",
        "\n",
        "# Pacote básico de manipulação e visualização de dados\n",
        "import pandas as pd\n",
        "import matplotlib.pyplot as plt\n",
        "import numpy as np\n",
        "from matplotlib.pyplot import cm\n",
        "\n",
        "pd.options.mode.chained_assignment = None  # default='warn'"
      ],
      "execution_count": null,
      "outputs": []
    },
    {
      "cell_type": "code",
      "source": [
        "from google.colab import drive\n",
        "drive.mount('/content/drive')"
      ],
      "metadata": {
        "id": "XOvCOoOu5YBl",
        "colab": {
          "base_uri": "https://localhost:8080/"
        },
        "outputId": "aecd6444-f238-4a0b-ded3-e44042850225"
      },
      "execution_count": null,
      "outputs": [
        {
          "output_type": "stream",
          "name": "stdout",
          "text": [
            "Mounted at /content/drive\n"
          ]
        }
      ]
    },
    {
      "cell_type": "markdown",
      "metadata": {
        "id": "cziIDT_gQO2Q"
      },
      "source": [
        "Padronização dos gráficos para facilitar visualização."
      ]
    },
    {
      "cell_type": "code",
      "metadata": {
        "id": "tpEYpnDjvIup"
      },
      "source": [
        "plt.style.use('seaborn-colorblind')\n",
        "plt.rcParams['figure.figsize']  = (16, 10)\n",
        "plt.rcParams['axes.labelsize']  = 20\n",
        "plt.rcParams['axes.titlesize']  = 20\n",
        "plt.rcParams['legend.fontsize'] = 20\n",
        "plt.rcParams['xtick.labelsize'] = 20\n",
        "plt.rcParams['ytick.labelsize'] = 20\n",
        "plt.rcParams['lines.linewidth'] = 4"
      ],
      "execution_count": null,
      "outputs": []
    },
    {
      "cell_type": "markdown",
      "metadata": {
        "id": "Am0XdYPCQUvX"
      },
      "source": [
        "Força o gráfica a ser desenhado no próprio notebook."
      ]
    },
    {
      "cell_type": "code",
      "metadata": {
        "id": "_LgAHrdLvNix"
      },
      "source": [
        "plt.ion()"
      ],
      "execution_count": null,
      "outputs": []
    },
    {
      "cell_type": "markdown",
      "metadata": {
        "id": "qAq2BBe-QYrT"
      },
      "source": [
        "Função que retira as linhas das bordas direita e superior dos gráficos."
      ]
    },
    {
      "cell_type": "code",
      "metadata": {
        "id": "xzgBOMlUvN5A"
      },
      "source": [
        "def despine(ax=None):\n",
        "    if ax is None:\n",
        "        ax = plt.gca()\n",
        "    # Hide the right and top spines\n",
        "    ax.spines['right'].set_visible(False)\n",
        "    ax.spines['top'].set_visible(False)\n",
        "\n",
        "    # Only show ticks on the left and bottom spines\n",
        "    ax.yaxis.set_ticks_position('left')\n",
        "    ax.xaxis.set_ticks_position('bottom')"
      ],
      "execution_count": null,
      "outputs": []
    },
    {
      "cell_type": "markdown",
      "metadata": {
        "id": "_MdLL-htQizQ"
      },
      "source": [
        "Função que calcula o bootstrap com 5000 valores do conjunto de dados x passado."
      ]
    },
    {
      "cell_type": "code",
      "metadata": {
        "id": "KFUuxENKeHH8"
      },
      "source": [
        "def bootstrap_mean(x, n=5000):\n",
        "    size = len(x)\n",
        "    values = np.zeros(n)\n",
        "    for i in range(n):\n",
        "        sample = np.random.choice(x, size=size, replace=True)\n",
        "        values[i] = sample.mean()\n",
        "    return values"
      ],
      "execution_count": null,
      "outputs": []
    },
    {
      "cell_type": "markdown",
      "metadata": {
        "id": "KjcgHIblzwEG"
      },
      "source": [
        "Função que calcula o bootstrap com 5000 valores do MSE (Erro Médio Quadrado) do modelo passado."
      ]
    },
    {
      "cell_type": "code",
      "metadata": {
        "id": "E8sejMKzzwEH"
      },
      "source": [
        "def bootstrap_mse(X, y, model, n=5000):\n",
        "    size = len(y)\n",
        "    values = np.zeros(n)\n",
        "    for i in range(n):\n",
        "        idx = np.random.choice(size, size)\n",
        "        Xb = X.iloc[idx]\n",
        "        yb = y.iloc[idx]\n",
        "        values[i] = mean_squared_error(yb, model.predict(Xb))\n",
        "    return values"
      ],
      "execution_count": null,
      "outputs": []
    },
    {
      "cell_type": "markdown",
      "metadata": {
        "id": "XEMwyeXZ9bjL"
      },
      "source": [
        "Função que calcula o bootstrap com 5000 valores do score do modelo passado. Ela não será utilizada nesse notebook, mas pode ser útil caso o leitor queira utilizar outra métrica para avaliar os modelos."
      ]
    },
    {
      "cell_type": "code",
      "metadata": {
        "id": "Klb1hgSA9bjL"
      },
      "source": [
        "def bootstrap_score(X, y, model, n=5000):\n",
        "    size = len(y)\n",
        "    values = np.zeros(n)\n",
        "    for i in range(n):\n",
        "        idx = np.random.choice(size, size)\n",
        "        Xb = X.iloc[idx]\n",
        "        yb = y.iloc[idx]\n",
        "        values[i] = model.score(Xb, yb)\n",
        "    return values"
      ],
      "execution_count": null,
      "outputs": []
    },
    {
      "cell_type": "markdown",
      "metadata": {
        "id": "0l6G2kTGsttE"
      },
      "source": [
        "# 3. Base de Dados"
      ]
    },
    {
      "cell_type": "code",
      "metadata": {
        "id": "1utatOSZklyn"
      },
      "source": [
        "df = pd.read_csv('/content/drive/MyDrive/Colab Notebooks/CSVs/Pokemon.csv', encoding='utf-8', sep=',')"
      ],
      "execution_count": null,
      "outputs": []
    },
    {
      "cell_type": "code",
      "metadata": {
        "id": "KDZr1gVenVvc",
        "colab": {
          "base_uri": "https://localhost:8080/",
          "height": 285
        },
        "outputId": "4e4fbf9b-54bc-41b7-ebd1-c00caf285a96"
      },
      "source": [
        "df.head()"
      ],
      "execution_count": null,
      "outputs": [
        {
          "output_type": "execute_result",
          "data": {
            "text/plain": [
              "   #                   Name Type 1  Type 2  Total  HP  Attack  Defense  \\\n",
              "0  1              Bulbasaur  Grass  Poison    318  45      49       49   \n",
              "1  2                Ivysaur  Grass  Poison    405  60      62       63   \n",
              "2  3               Venusaur  Grass  Poison    525  80      82       83   \n",
              "3  3  VenusaurMega Venusaur  Grass  Poison    625  80     100      123   \n",
              "4  4             Charmander   Fire     NaN    309  39      52       43   \n",
              "\n",
              "   Sp. Atk  Sp. Def  Speed  Generation  Legendary  \n",
              "0       65       65     45           1      False  \n",
              "1       80       80     60           1      False  \n",
              "2      100      100     80           1      False  \n",
              "3      122      120     80           1      False  \n",
              "4       60       50     65           1      False  "
            ],
            "text/html": [
              "\n",
              "  <div id=\"df-0a262b10-0151-42b5-b063-7018e533ddc9\">\n",
              "    <div class=\"colab-df-container\">\n",
              "      <div>\n",
              "<style scoped>\n",
              "    .dataframe tbody tr th:only-of-type {\n",
              "        vertical-align: middle;\n",
              "    }\n",
              "\n",
              "    .dataframe tbody tr th {\n",
              "        vertical-align: top;\n",
              "    }\n",
              "\n",
              "    .dataframe thead th {\n",
              "        text-align: right;\n",
              "    }\n",
              "</style>\n",
              "<table border=\"1\" class=\"dataframe\">\n",
              "  <thead>\n",
              "    <tr style=\"text-align: right;\">\n",
              "      <th></th>\n",
              "      <th>#</th>\n",
              "      <th>Name</th>\n",
              "      <th>Type 1</th>\n",
              "      <th>Type 2</th>\n",
              "      <th>Total</th>\n",
              "      <th>HP</th>\n",
              "      <th>Attack</th>\n",
              "      <th>Defense</th>\n",
              "      <th>Sp. Atk</th>\n",
              "      <th>Sp. Def</th>\n",
              "      <th>Speed</th>\n",
              "      <th>Generation</th>\n",
              "      <th>Legendary</th>\n",
              "    </tr>\n",
              "  </thead>\n",
              "  <tbody>\n",
              "    <tr>\n",
              "      <th>0</th>\n",
              "      <td>1</td>\n",
              "      <td>Bulbasaur</td>\n",
              "      <td>Grass</td>\n",
              "      <td>Poison</td>\n",
              "      <td>318</td>\n",
              "      <td>45</td>\n",
              "      <td>49</td>\n",
              "      <td>49</td>\n",
              "      <td>65</td>\n",
              "      <td>65</td>\n",
              "      <td>45</td>\n",
              "      <td>1</td>\n",
              "      <td>False</td>\n",
              "    </tr>\n",
              "    <tr>\n",
              "      <th>1</th>\n",
              "      <td>2</td>\n",
              "      <td>Ivysaur</td>\n",
              "      <td>Grass</td>\n",
              "      <td>Poison</td>\n",
              "      <td>405</td>\n",
              "      <td>60</td>\n",
              "      <td>62</td>\n",
              "      <td>63</td>\n",
              "      <td>80</td>\n",
              "      <td>80</td>\n",
              "      <td>60</td>\n",
              "      <td>1</td>\n",
              "      <td>False</td>\n",
              "    </tr>\n",
              "    <tr>\n",
              "      <th>2</th>\n",
              "      <td>3</td>\n",
              "      <td>Venusaur</td>\n",
              "      <td>Grass</td>\n",
              "      <td>Poison</td>\n",
              "      <td>525</td>\n",
              "      <td>80</td>\n",
              "      <td>82</td>\n",
              "      <td>83</td>\n",
              "      <td>100</td>\n",
              "      <td>100</td>\n",
              "      <td>80</td>\n",
              "      <td>1</td>\n",
              "      <td>False</td>\n",
              "    </tr>\n",
              "    <tr>\n",
              "      <th>3</th>\n",
              "      <td>3</td>\n",
              "      <td>VenusaurMega Venusaur</td>\n",
              "      <td>Grass</td>\n",
              "      <td>Poison</td>\n",
              "      <td>625</td>\n",
              "      <td>80</td>\n",
              "      <td>100</td>\n",
              "      <td>123</td>\n",
              "      <td>122</td>\n",
              "      <td>120</td>\n",
              "      <td>80</td>\n",
              "      <td>1</td>\n",
              "      <td>False</td>\n",
              "    </tr>\n",
              "    <tr>\n",
              "      <th>4</th>\n",
              "      <td>4</td>\n",
              "      <td>Charmander</td>\n",
              "      <td>Fire</td>\n",
              "      <td>NaN</td>\n",
              "      <td>309</td>\n",
              "      <td>39</td>\n",
              "      <td>52</td>\n",
              "      <td>43</td>\n",
              "      <td>60</td>\n",
              "      <td>50</td>\n",
              "      <td>65</td>\n",
              "      <td>1</td>\n",
              "      <td>False</td>\n",
              "    </tr>\n",
              "  </tbody>\n",
              "</table>\n",
              "</div>\n",
              "      <button class=\"colab-df-convert\" onclick=\"convertToInteractive('df-0a262b10-0151-42b5-b063-7018e533ddc9')\"\n",
              "              title=\"Convert this dataframe to an interactive table.\"\n",
              "              style=\"display:none;\">\n",
              "        \n",
              "  <svg xmlns=\"http://www.w3.org/2000/svg\" height=\"24px\"viewBox=\"0 0 24 24\"\n",
              "       width=\"24px\">\n",
              "    <path d=\"M0 0h24v24H0V0z\" fill=\"none\"/>\n",
              "    <path d=\"M18.56 5.44l.94 2.06.94-2.06 2.06-.94-2.06-.94-.94-2.06-.94 2.06-2.06.94zm-11 1L8.5 8.5l.94-2.06 2.06-.94-2.06-.94L8.5 2.5l-.94 2.06-2.06.94zm10 10l.94 2.06.94-2.06 2.06-.94-2.06-.94-.94-2.06-.94 2.06-2.06.94z\"/><path d=\"M17.41 7.96l-1.37-1.37c-.4-.4-.92-.59-1.43-.59-.52 0-1.04.2-1.43.59L10.3 9.45l-7.72 7.72c-.78.78-.78 2.05 0 2.83L4 21.41c.39.39.9.59 1.41.59.51 0 1.02-.2 1.41-.59l7.78-7.78 2.81-2.81c.8-.78.8-2.07 0-2.86zM5.41 20L4 18.59l7.72-7.72 1.47 1.35L5.41 20z\"/>\n",
              "  </svg>\n",
              "      </button>\n",
              "      \n",
              "  <style>\n",
              "    .colab-df-container {\n",
              "      display:flex;\n",
              "      flex-wrap:wrap;\n",
              "      gap: 12px;\n",
              "    }\n",
              "\n",
              "    .colab-df-convert {\n",
              "      background-color: #E8F0FE;\n",
              "      border: none;\n",
              "      border-radius: 50%;\n",
              "      cursor: pointer;\n",
              "      display: none;\n",
              "      fill: #1967D2;\n",
              "      height: 32px;\n",
              "      padding: 0 0 0 0;\n",
              "      width: 32px;\n",
              "    }\n",
              "\n",
              "    .colab-df-convert:hover {\n",
              "      background-color: #E2EBFA;\n",
              "      box-shadow: 0px 1px 2px rgba(60, 64, 67, 0.3), 0px 1px 3px 1px rgba(60, 64, 67, 0.15);\n",
              "      fill: #174EA6;\n",
              "    }\n",
              "\n",
              "    [theme=dark] .colab-df-convert {\n",
              "      background-color: #3B4455;\n",
              "      fill: #D2E3FC;\n",
              "    }\n",
              "\n",
              "    [theme=dark] .colab-df-convert:hover {\n",
              "      background-color: #434B5C;\n",
              "      box-shadow: 0px 1px 3px 1px rgba(0, 0, 0, 0.15);\n",
              "      filter: drop-shadow(0px 1px 2px rgba(0, 0, 0, 0.3));\n",
              "      fill: #FFFFFF;\n",
              "    }\n",
              "  </style>\n",
              "\n",
              "      <script>\n",
              "        const buttonEl =\n",
              "          document.querySelector('#df-0a262b10-0151-42b5-b063-7018e533ddc9 button.colab-df-convert');\n",
              "        buttonEl.style.display =\n",
              "          google.colab.kernel.accessAllowed ? 'block' : 'none';\n",
              "\n",
              "        async function convertToInteractive(key) {\n",
              "          const element = document.querySelector('#df-0a262b10-0151-42b5-b063-7018e533ddc9');\n",
              "          const dataTable =\n",
              "            await google.colab.kernel.invokeFunction('convertToInteractive',\n",
              "                                                     [key], {});\n",
              "          if (!dataTable) return;\n",
              "\n",
              "          const docLinkHtml = 'Like what you see? Visit the ' +\n",
              "            '<a target=\"_blank\" href=https://colab.research.google.com/notebooks/data_table.ipynb>data table notebook</a>'\n",
              "            + ' to learn more about interactive tables.';\n",
              "          element.innerHTML = '';\n",
              "          dataTable['output_type'] = 'display_data';\n",
              "          await google.colab.output.renderOutput(dataTable, element);\n",
              "          const docLink = document.createElement('div');\n",
              "          docLink.innerHTML = docLinkHtml;\n",
              "          element.appendChild(docLink);\n",
              "        }\n",
              "      </script>\n",
              "    </div>\n",
              "  </div>\n",
              "  "
            ]
          },
          "metadata": {},
          "execution_count": 6
        }
      ]
    },
    {
      "cell_type": "markdown",
      "metadata": {
        "id": "Fg1UYCIQ_OaV"
      },
      "source": [
        "## 1. Visualização Inicial\n"
      ]
    },
    {
      "cell_type": "markdown",
      "metadata": {
        "id": "khDKXhMsRuUY"
      },
      "source": [
        "Somente a coluna 'HDI' possui NaNs. Iremos lidar com esse problema em um momento mais oportuno."
      ]
    },
    {
      "cell_type": "code",
      "metadata": {
        "id": "SK_mG41y0bPD",
        "colab": {
          "base_uri": "https://localhost:8080/"
        },
        "outputId": "1f1f1899-ab20-4775-d61a-70c545da1835"
      },
      "source": [
        "df.isna().sum().sort_values(ascending=False)"
      ],
      "execution_count": null,
      "outputs": [
        {
          "output_type": "execute_result",
          "data": {
            "text/plain": [
              "Type 2        386\n",
              "Legendary       0\n",
              "Generation      0\n",
              "Speed           0\n",
              "Sp. Def         0\n",
              "Sp. Atk         0\n",
              "Defense         0\n",
              "Attack          0\n",
              "HP              0\n",
              "Total           0\n",
              "Type 1          0\n",
              "Name            0\n",
              "#               0\n",
              "dtype: int64"
            ]
          },
          "metadata": {},
          "execution_count": 10
        }
      ]
    },
    {
      "cell_type": "code",
      "metadata": {
        "id": "WfDQhzbnRAtW",
        "colab": {
          "base_uri": "https://localhost:8080/"
        },
        "outputId": "7e53cfe7-8523-4ad1-fdb7-3bb91dcad279"
      },
      "source": [
        "df.shape"
      ],
      "execution_count": null,
      "outputs": [
        {
          "output_type": "execute_result",
          "data": {
            "text/plain": [
              "(800, 13)"
            ]
          },
          "metadata": {},
          "execution_count": 11
        }
      ]
    },
    {
      "cell_type": "markdown",
      "metadata": {
        "id": "a8Pge9HLmNuC"
      },
      "source": [
        "Suicídio por idade."
      ]
    },
    {
      "cell_type": "code",
      "metadata": {
        "id": "vPysS1ZxZtvJ"
      },
      "source": [
        "df['Legendary'] = df['Legendary'] * 1 "
      ],
      "execution_count": null,
      "outputs": []
    },
    {
      "cell_type": "code",
      "metadata": {
        "colab": {
          "base_uri": "https://localhost:8080/"
        },
        "id": "_AyDv4yRboLG",
        "outputId": "dab5768b-827f-4a77-daad-96f767a04bf7"
      },
      "source": [
        "df['Total'].mean()"
      ],
      "execution_count": null,
      "outputs": [
        {
          "output_type": "execute_result",
          "data": {
            "text/plain": [
              "435.1025"
            ]
          },
          "metadata": {},
          "execution_count": 31
        }
      ]
    },
    {
      "cell_type": "code",
      "metadata": {
        "colab": {
          "base_uri": "https://localhost:8080/",
          "height": 142
        },
        "id": "drZmpOuhcKqg",
        "outputId": "467c067b-6a41-4ab1-a46b-5fec65fdc3ae"
      },
      "source": [
        "df[['Legendary', 'Total']].groupby(by='Legendary').mean().sort_values(by='Total')"
      ],
      "execution_count": null,
      "outputs": [
        {
          "output_type": "execute_result",
          "data": {
            "text/html": [
              "<div>\n",
              "<style scoped>\n",
              "    .dataframe tbody tr th:only-of-type {\n",
              "        vertical-align: middle;\n",
              "    }\n",
              "\n",
              "    .dataframe tbody tr th {\n",
              "        vertical-align: top;\n",
              "    }\n",
              "\n",
              "    .dataframe thead th {\n",
              "        text-align: right;\n",
              "    }\n",
              "</style>\n",
              "<table border=\"1\" class=\"dataframe\">\n",
              "  <thead>\n",
              "    <tr style=\"text-align: right;\">\n",
              "      <th></th>\n",
              "      <th>Total</th>\n",
              "    </tr>\n",
              "    <tr>\n",
              "      <th>Legendary</th>\n",
              "      <th></th>\n",
              "    </tr>\n",
              "  </thead>\n",
              "  <tbody>\n",
              "    <tr>\n",
              "      <th>0</th>\n",
              "      <td>417.213605</td>\n",
              "    </tr>\n",
              "    <tr>\n",
              "      <th>1</th>\n",
              "      <td>637.384615</td>\n",
              "    </tr>\n",
              "  </tbody>\n",
              "</table>\n",
              "</div>"
            ],
            "text/plain": [
              "                Total\n",
              "Legendary            \n",
              "0          417.213605\n",
              "1          637.384615"
            ]
          },
          "metadata": {},
          "execution_count": 32
        }
      ]
    },
    {
      "cell_type": "code",
      "metadata": {
        "colab": {
          "base_uri": "https://localhost:8080/",
          "height": 266
        },
        "id": "WVB0ctsNbiwe",
        "outputId": "bb0f0ae1-8acc-477f-adf6-ec61ec1b8608"
      },
      "source": [
        "df[['Generation', 'Total']].groupby(by='Generation').mean().sort_values(by='Total')"
      ],
      "execution_count": null,
      "outputs": [
        {
          "output_type": "execute_result",
          "data": {
            "text/html": [
              "<div>\n",
              "<style scoped>\n",
              "    .dataframe tbody tr th:only-of-type {\n",
              "        vertical-align: middle;\n",
              "    }\n",
              "\n",
              "    .dataframe tbody tr th {\n",
              "        vertical-align: top;\n",
              "    }\n",
              "\n",
              "    .dataframe thead th {\n",
              "        text-align: right;\n",
              "    }\n",
              "</style>\n",
              "<table border=\"1\" class=\"dataframe\">\n",
              "  <thead>\n",
              "    <tr style=\"text-align: right;\">\n",
              "      <th></th>\n",
              "      <th>Total</th>\n",
              "    </tr>\n",
              "    <tr>\n",
              "      <th>Generation</th>\n",
              "      <th></th>\n",
              "    </tr>\n",
              "  </thead>\n",
              "  <tbody>\n",
              "    <tr>\n",
              "      <th>2</th>\n",
              "      <td>418.283019</td>\n",
              "    </tr>\n",
              "    <tr>\n",
              "      <th>1</th>\n",
              "      <td>426.813253</td>\n",
              "    </tr>\n",
              "    <tr>\n",
              "      <th>5</th>\n",
              "      <td>434.987879</td>\n",
              "    </tr>\n",
              "    <tr>\n",
              "      <th>3</th>\n",
              "      <td>436.225000</td>\n",
              "    </tr>\n",
              "    <tr>\n",
              "      <th>6</th>\n",
              "      <td>436.378049</td>\n",
              "    </tr>\n",
              "    <tr>\n",
              "      <th>4</th>\n",
              "      <td>459.016529</td>\n",
              "    </tr>\n",
              "  </tbody>\n",
              "</table>\n",
              "</div>"
            ],
            "text/plain": [
              "                 Total\n",
              "Generation            \n",
              "2           418.283019\n",
              "1           426.813253\n",
              "5           434.987879\n",
              "3           436.225000\n",
              "6           436.378049\n",
              "4           459.016529"
            ]
          },
          "metadata": {},
          "execution_count": 29
        }
      ]
    },
    {
      "cell_type": "code",
      "metadata": {
        "id": "gZ_J7F6jmyH0",
        "colab": {
          "base_uri": "https://localhost:8080/",
          "height": 452
        },
        "outputId": "174610f2-9917-4115-dfb8-1d646abc8195"
      },
      "source": [
        "df[['Generation', 'Legendary', 'Total']].groupby(by=['Legendary', 'Generation']).mean().sort_values(by='Total')"
      ],
      "execution_count": null,
      "outputs": [
        {
          "output_type": "execute_result",
          "data": {
            "text/html": [
              "<div>\n",
              "<style scoped>\n",
              "    .dataframe tbody tr th:only-of-type {\n",
              "        vertical-align: middle;\n",
              "    }\n",
              "\n",
              "    .dataframe tbody tr th {\n",
              "        vertical-align: top;\n",
              "    }\n",
              "\n",
              "    .dataframe thead th {\n",
              "        text-align: right;\n",
              "    }\n",
              "</style>\n",
              "<table border=\"1\" class=\"dataframe\">\n",
              "  <thead>\n",
              "    <tr style=\"text-align: right;\">\n",
              "      <th></th>\n",
              "      <th></th>\n",
              "      <th>Total</th>\n",
              "    </tr>\n",
              "    <tr>\n",
              "      <th>Legendary</th>\n",
              "      <th>Generation</th>\n",
              "      <th></th>\n",
              "    </tr>\n",
              "  </thead>\n",
              "  <tbody>\n",
              "    <tr>\n",
              "      <th rowspan=\"6\" valign=\"top\">0</th>\n",
              "      <th>2</th>\n",
              "      <td>408.297030</td>\n",
              "    </tr>\n",
              "    <tr>\n",
              "      <th>3</th>\n",
              "      <td>409.267606</td>\n",
              "    </tr>\n",
              "    <tr>\n",
              "      <th>6</th>\n",
              "      <td>414.094595</td>\n",
              "    </tr>\n",
              "    <tr>\n",
              "      <th>5</th>\n",
              "      <td>416.620000</td>\n",
              "    </tr>\n",
              "    <tr>\n",
              "      <th>1</th>\n",
              "      <td>417.943750</td>\n",
              "    </tr>\n",
              "    <tr>\n",
              "      <th>4</th>\n",
              "      <td>437.879630</td>\n",
              "    </tr>\n",
              "    <tr>\n",
              "      <th rowspan=\"6\" valign=\"top\">1</th>\n",
              "      <th>5</th>\n",
              "      <td>618.666667</td>\n",
              "    </tr>\n",
              "    <tr>\n",
              "      <th>2</th>\n",
              "      <td>620.000000</td>\n",
              "    </tr>\n",
              "    <tr>\n",
              "      <th>4</th>\n",
              "      <td>634.615385</td>\n",
              "    </tr>\n",
              "    <tr>\n",
              "      <th>6</th>\n",
              "      <td>642.500000</td>\n",
              "    </tr>\n",
              "    <tr>\n",
              "      <th>3</th>\n",
              "      <td>648.888889</td>\n",
              "    </tr>\n",
              "    <tr>\n",
              "      <th>1</th>\n",
              "      <td>663.333333</td>\n",
              "    </tr>\n",
              "  </tbody>\n",
              "</table>\n",
              "</div>"
            ],
            "text/plain": [
              "                           Total\n",
              "Legendary Generation            \n",
              "0         2           408.297030\n",
              "          3           409.267606\n",
              "          6           414.094595\n",
              "          5           416.620000\n",
              "          1           417.943750\n",
              "          4           437.879630\n",
              "1         5           618.666667\n",
              "          2           620.000000\n",
              "          4           634.615385\n",
              "          6           642.500000\n",
              "          3           648.888889\n",
              "          1           663.333333"
            ]
          },
          "metadata": {},
          "execution_count": 27
        }
      ]
    },
    {
      "cell_type": "code",
      "metadata": {
        "colab": {
          "base_uri": "https://localhost:8080/",
          "height": 638
        },
        "id": "cQBI-DN7bABR",
        "outputId": "4599d576-116d-4fa5-c47e-f8fee7b868e6"
      },
      "source": [
        "df[['Type 1', 'Total']].groupby(by='Type 1').mean().sort_values(by='Total')"
      ],
      "execution_count": null,
      "outputs": [
        {
          "output_type": "execute_result",
          "data": {
            "text/html": [
              "<div>\n",
              "<style scoped>\n",
              "    .dataframe tbody tr th:only-of-type {\n",
              "        vertical-align: middle;\n",
              "    }\n",
              "\n",
              "    .dataframe tbody tr th {\n",
              "        vertical-align: top;\n",
              "    }\n",
              "\n",
              "    .dataframe thead th {\n",
              "        text-align: right;\n",
              "    }\n",
              "</style>\n",
              "<table border=\"1\" class=\"dataframe\">\n",
              "  <thead>\n",
              "    <tr style=\"text-align: right;\">\n",
              "      <th></th>\n",
              "      <th>Total</th>\n",
              "    </tr>\n",
              "    <tr>\n",
              "      <th>Type 1</th>\n",
              "      <th></th>\n",
              "    </tr>\n",
              "  </thead>\n",
              "  <tbody>\n",
              "    <tr>\n",
              "      <th>Bug</th>\n",
              "      <td>378.927536</td>\n",
              "    </tr>\n",
              "    <tr>\n",
              "      <th>Poison</th>\n",
              "      <td>399.142857</td>\n",
              "    </tr>\n",
              "    <tr>\n",
              "      <th>Normal</th>\n",
              "      <td>401.683673</td>\n",
              "    </tr>\n",
              "    <tr>\n",
              "      <th>Fairy</th>\n",
              "      <td>413.176471</td>\n",
              "    </tr>\n",
              "    <tr>\n",
              "      <th>Fighting</th>\n",
              "      <td>416.444444</td>\n",
              "    </tr>\n",
              "    <tr>\n",
              "      <th>Grass</th>\n",
              "      <td>421.142857</td>\n",
              "    </tr>\n",
              "    <tr>\n",
              "      <th>Water</th>\n",
              "      <td>430.455357</td>\n",
              "    </tr>\n",
              "    <tr>\n",
              "      <th>Ice</th>\n",
              "      <td>433.458333</td>\n",
              "    </tr>\n",
              "    <tr>\n",
              "      <th>Ground</th>\n",
              "      <td>437.500000</td>\n",
              "    </tr>\n",
              "    <tr>\n",
              "      <th>Ghost</th>\n",
              "      <td>439.562500</td>\n",
              "    </tr>\n",
              "    <tr>\n",
              "      <th>Electric</th>\n",
              "      <td>443.409091</td>\n",
              "    </tr>\n",
              "    <tr>\n",
              "      <th>Dark</th>\n",
              "      <td>445.741935</td>\n",
              "    </tr>\n",
              "    <tr>\n",
              "      <th>Rock</th>\n",
              "      <td>453.750000</td>\n",
              "    </tr>\n",
              "    <tr>\n",
              "      <th>Fire</th>\n",
              "      <td>458.076923</td>\n",
              "    </tr>\n",
              "    <tr>\n",
              "      <th>Psychic</th>\n",
              "      <td>475.947368</td>\n",
              "    </tr>\n",
              "    <tr>\n",
              "      <th>Flying</th>\n",
              "      <td>485.000000</td>\n",
              "    </tr>\n",
              "    <tr>\n",
              "      <th>Steel</th>\n",
              "      <td>487.703704</td>\n",
              "    </tr>\n",
              "    <tr>\n",
              "      <th>Dragon</th>\n",
              "      <td>550.531250</td>\n",
              "    </tr>\n",
              "  </tbody>\n",
              "</table>\n",
              "</div>"
            ],
            "text/plain": [
              "               Total\n",
              "Type 1              \n",
              "Bug       378.927536\n",
              "Poison    399.142857\n",
              "Normal    401.683673\n",
              "Fairy     413.176471\n",
              "Fighting  416.444444\n",
              "Grass     421.142857\n",
              "Water     430.455357\n",
              "Ice       433.458333\n",
              "Ground    437.500000\n",
              "Ghost     439.562500\n",
              "Electric  443.409091\n",
              "Dark      445.741935\n",
              "Rock      453.750000\n",
              "Fire      458.076923\n",
              "Psychic   475.947368\n",
              "Flying    485.000000\n",
              "Steel     487.703704\n",
              "Dragon    550.531250"
            ]
          },
          "metadata": {},
          "execution_count": 28
        }
      ]
    },
    {
      "cell_type": "code",
      "metadata": {
        "colab": {
          "base_uri": "https://localhost:8080/",
          "height": 638
        },
        "id": "pzoWb3Ezcli3",
        "outputId": "b82f8ca7-218a-4a25-ccc5-dc347662a713"
      },
      "source": [
        "df[['Type 2', 'Total']].groupby(by='Type 2').mean().sort_values(by='Total')"
      ],
      "execution_count": null,
      "outputs": [
        {
          "output_type": "execute_result",
          "data": {
            "text/html": [
              "<div>\n",
              "<style scoped>\n",
              "    .dataframe tbody tr th:only-of-type {\n",
              "        vertical-align: middle;\n",
              "    }\n",
              "\n",
              "    .dataframe tbody tr th {\n",
              "        vertical-align: top;\n",
              "    }\n",
              "\n",
              "    .dataframe thead th {\n",
              "        text-align: right;\n",
              "    }\n",
              "</style>\n",
              "<table border=\"1\" class=\"dataframe\">\n",
              "  <thead>\n",
              "    <tr style=\"text-align: right;\">\n",
              "      <th></th>\n",
              "      <th>Total</th>\n",
              "    </tr>\n",
              "    <tr>\n",
              "      <th>Type 2</th>\n",
              "      <th></th>\n",
              "    </tr>\n",
              "  </thead>\n",
              "  <tbody>\n",
              "    <tr>\n",
              "      <th>Bug</th>\n",
              "      <td>393.333333</td>\n",
              "    </tr>\n",
              "    <tr>\n",
              "      <th>Poison</th>\n",
              "      <td>396.500000</td>\n",
              "    </tr>\n",
              "    <tr>\n",
              "      <th>Grass</th>\n",
              "      <td>408.920000</td>\n",
              "    </tr>\n",
              "    <tr>\n",
              "      <th>Normal</th>\n",
              "      <td>411.500000</td>\n",
              "    </tr>\n",
              "    <tr>\n",
              "      <th>Fairy</th>\n",
              "      <td>417.956522</td>\n",
              "    </tr>\n",
              "    <tr>\n",
              "      <th>Water</th>\n",
              "      <td>418.214286</td>\n",
              "    </tr>\n",
              "    <tr>\n",
              "      <th>Ghost</th>\n",
              "      <td>430.714286</td>\n",
              "    </tr>\n",
              "    <tr>\n",
              "      <th>Rock</th>\n",
              "      <td>434.642857</td>\n",
              "    </tr>\n",
              "    <tr>\n",
              "      <th>Ground</th>\n",
              "      <td>444.342857</td>\n",
              "    </tr>\n",
              "    <tr>\n",
              "      <th>Flying</th>\n",
              "      <td>452.546392</td>\n",
              "    </tr>\n",
              "    <tr>\n",
              "      <th>Electric</th>\n",
              "      <td>455.333333</td>\n",
              "    </tr>\n",
              "    <tr>\n",
              "      <th>Psychic</th>\n",
              "      <td>479.060606</td>\n",
              "    </tr>\n",
              "    <tr>\n",
              "      <th>Dark</th>\n",
              "      <td>484.400000</td>\n",
              "    </tr>\n",
              "    <tr>\n",
              "      <th>Steel</th>\n",
              "      <td>485.227273</td>\n",
              "    </tr>\n",
              "    <tr>\n",
              "      <th>Fire</th>\n",
              "      <td>506.250000</td>\n",
              "    </tr>\n",
              "    <tr>\n",
              "      <th>Ice</th>\n",
              "      <td>525.714286</td>\n",
              "    </tr>\n",
              "    <tr>\n",
              "      <th>Fighting</th>\n",
              "      <td>525.846154</td>\n",
              "    </tr>\n",
              "    <tr>\n",
              "      <th>Dragon</th>\n",
              "      <td>526.166667</td>\n",
              "    </tr>\n",
              "  </tbody>\n",
              "</table>\n",
              "</div>"
            ],
            "text/plain": [
              "               Total\n",
              "Type 2              \n",
              "Bug       393.333333\n",
              "Poison    396.500000\n",
              "Grass     408.920000\n",
              "Normal    411.500000\n",
              "Fairy     417.956522\n",
              "Water     418.214286\n",
              "Ghost     430.714286\n",
              "Rock      434.642857\n",
              "Ground    444.342857\n",
              "Flying    452.546392\n",
              "Electric  455.333333\n",
              "Psychic   479.060606\n",
              "Dark      484.400000\n",
              "Steel     485.227273\n",
              "Fire      506.250000\n",
              "Ice       525.714286\n",
              "Fighting  525.846154\n",
              "Dragon    526.166667"
            ]
          },
          "metadata": {},
          "execution_count": 34
        }
      ]
    },
    {
      "cell_type": "code",
      "metadata": {
        "colab": {
          "base_uri": "https://localhost:8080/",
          "height": 545
        },
        "id": "OgfpPElicrpG",
        "outputId": "35d8c442-9ecc-43c9-bc11-a561e1b07006"
      },
      "source": [
        "df[['Type 1', 'Type 2', 'Total']].groupby(by=['Type 1', 'Type 2']).mean().sort_values(by='Total')[-15:]"
      ],
      "execution_count": null,
      "outputs": [
        {
          "output_type": "execute_result",
          "data": {
            "text/html": [
              "<div>\n",
              "<style scoped>\n",
              "    .dataframe tbody tr th:only-of-type {\n",
              "        vertical-align: middle;\n",
              "    }\n",
              "\n",
              "    .dataframe tbody tr th {\n",
              "        vertical-align: top;\n",
              "    }\n",
              "\n",
              "    .dataframe thead th {\n",
              "        text-align: right;\n",
              "    }\n",
              "</style>\n",
              "<table border=\"1\" class=\"dataframe\">\n",
              "  <thead>\n",
              "    <tr style=\"text-align: right;\">\n",
              "      <th></th>\n",
              "      <th></th>\n",
              "      <th>Total</th>\n",
              "    </tr>\n",
              "    <tr>\n",
              "      <th>Type 1</th>\n",
              "      <th>Type 2</th>\n",
              "      <th></th>\n",
              "    </tr>\n",
              "  </thead>\n",
              "  <tbody>\n",
              "    <tr>\n",
              "      <th>Electric</th>\n",
              "      <th>Dragon</th>\n",
              "      <td>610.000000</td>\n",
              "    </tr>\n",
              "    <tr>\n",
              "      <th>Water</th>\n",
              "      <th>Dragon</th>\n",
              "      <td>610.000000</td>\n",
              "    </tr>\n",
              "    <tr>\n",
              "      <th>Grass</th>\n",
              "      <th>Dragon</th>\n",
              "      <td>630.000000</td>\n",
              "    </tr>\n",
              "    <tr>\n",
              "      <th>Fire</th>\n",
              "      <th>Dragon</th>\n",
              "      <td>634.000000</td>\n",
              "    </tr>\n",
              "    <tr>\n",
              "      <th>Psychic</th>\n",
              "      <th>Fighting</th>\n",
              "      <td>638.666667</td>\n",
              "    </tr>\n",
              "    <tr>\n",
              "      <th>Dragon</th>\n",
              "      <th>Flying</th>\n",
              "      <td>641.666667</td>\n",
              "    </tr>\n",
              "    <tr>\n",
              "      <th>Rock</th>\n",
              "      <th>Dark</th>\n",
              "      <td>650.000000</td>\n",
              "    </tr>\n",
              "    <tr>\n",
              "      <th rowspan=\"3\" valign=\"top\">Dragon</th>\n",
              "      <th>Psychic</th>\n",
              "      <td>650.000000</td>\n",
              "    </tr>\n",
              "    <tr>\n",
              "      <th>Electric</th>\n",
              "      <td>680.000000</td>\n",
              "    </tr>\n",
              "    <tr>\n",
              "      <th>Fire</th>\n",
              "      <td>680.000000</td>\n",
              "    </tr>\n",
              "    <tr>\n",
              "      <th>Steel</th>\n",
              "      <th>Dragon</th>\n",
              "      <td>680.000000</td>\n",
              "    </tr>\n",
              "    <tr>\n",
              "      <th>Psychic</th>\n",
              "      <th>Dark</th>\n",
              "      <td>680.000000</td>\n",
              "    </tr>\n",
              "    <tr>\n",
              "      <th>Ghost</th>\n",
              "      <th>Dragon</th>\n",
              "      <td>680.000000</td>\n",
              "    </tr>\n",
              "    <tr>\n",
              "      <th>Dragon</th>\n",
              "      <th>Ice</th>\n",
              "      <td>686.666667</td>\n",
              "    </tr>\n",
              "    <tr>\n",
              "      <th>Ground</th>\n",
              "      <th>Fire</th>\n",
              "      <td>770.000000</td>\n",
              "    </tr>\n",
              "  </tbody>\n",
              "</table>\n",
              "</div>"
            ],
            "text/plain": [
              "                        Total\n",
              "Type 1   Type 2              \n",
              "Electric Dragon    610.000000\n",
              "Water    Dragon    610.000000\n",
              "Grass    Dragon    630.000000\n",
              "Fire     Dragon    634.000000\n",
              "Psychic  Fighting  638.666667\n",
              "Dragon   Flying    641.666667\n",
              "Rock     Dark      650.000000\n",
              "Dragon   Psychic   650.000000\n",
              "         Electric  680.000000\n",
              "         Fire      680.000000\n",
              "Steel    Dragon    680.000000\n",
              "Psychic  Dark      680.000000\n",
              "Ghost    Dragon    680.000000\n",
              "Dragon   Ice       686.666667\n",
              "Ground   Fire      770.000000"
            ]
          },
          "metadata": {},
          "execution_count": 37
        }
      ]
    },
    {
      "cell_type": "code",
      "metadata": {
        "id": "6jyAc47fqsFv"
      },
      "source": [
        "# df['Type 1'].unique()"
      ],
      "execution_count": null,
      "outputs": []
    },
    {
      "cell_type": "markdown",
      "metadata": {
        "id": "_pDlT0b9ieKn"
      },
      "source": [
        "# 4. Visualização de Dados\n"
      ]
    },
    {
      "cell_type": "markdown",
      "metadata": {
        "id": "255C0606gK0s"
      },
      "source": [
        "## 2. Visualização da Expectativa de Vida\n",
        "\n",
        "Da mesma maneira que o GDP, a distribuição da Expectativa de Vida não é simétrica, entretanto, a intensidade dessa assimetria é bem menor. Além do que, nesse caso, existem muitos países com a Expectativa de Vida parecida e relativamente alta, ao invés do contrário."
      ]
    },
    {
      "cell_type": "code",
      "metadata": {
        "id": "_bwXCiAcizj4",
        "colab": {
          "base_uri": "https://localhost:8080/",
          "height": 645
        },
        "outputId": "18c69c72-1424-41ab-f4dc-fc9eea5a7866"
      },
      "source": [
        "col = 'Total'\n",
        "# col = 'HP'\n",
        "# col = 'Attack'\n",
        "# col = 'Defense'\n",
        "# col = 'Sp. Atk'\n",
        "# col = 'Sp. Def' # Surpreendentemente parece uma normal\n",
        "# col = 'Speed' # Surpreendentemente parece uma normal\n",
        "# col = 'Generation'\n",
        "# col = 'Legendary'\n",
        "\n",
        "x = df[col]\n",
        "\n",
        "ymin = 0\n",
        "\n",
        "n, bins, patches = plt.hist(x, bins=20, edgecolor='k')\n",
        "plt.vlines(x.mean(), ymin, n.max(), label='Média', linestyles='--', edgecolor='k', color='red')\n",
        "plt.vlines(x.median(), ymin, n.max(), label='Mediana', color='black')\n",
        "plt.xlabel(col)\n",
        "plt.ylabel('# de Países')\n",
        "plt.title('Histograma do GDP')\n",
        "\n",
        "plt.legend()\n",
        "\n",
        "despine()\n",
        "\n",
        "plt.show()"
      ],
      "execution_count": null,
      "outputs": [
        {
          "output_type": "display_data",
          "data": {
            "image/png": "[encoded data removed]",
            "text/plain": [
              "<Figure size 1152x720 with 1 Axes>"
            ]
          },
          "metadata": {
            "needs_background": "light"
          }
        }
      ]
    },
    {
      "cell_type": "markdown",
      "metadata": {
        "id": "C01lTcDwBfBY"
      },
      "source": [
        "# 5. Testes de Hipóteses"
      ]
    },
    {
      "cell_type": "markdown",
      "metadata": {
        "id": "BnTPA1_Q5i5R"
      },
      "source": [
        "## 1. Testes da Expectativa de Vida"
      ]
    },
    {
      "cell_type": "code",
      "metadata": {
        "id": "TYUXH-up3Agu",
        "colab": {
          "base_uri": "https://localhost:8080/",
          "height": 645
        },
        "outputId": "0417b242-0a38-4da9-e669-8cb68ef783d7"
      },
      "source": [
        "ymin = 0\n",
        "# colx = 'Type 1'\n",
        "# colx = 'Type 2'\n",
        "# colx = 'Generation'\n",
        "colx = 'Legendary'\n",
        "\n",
        "coly = 'Total'\n",
        "# coly = 'HP'\n",
        "# coly = 'Attack'\n",
        "# coly = 'Defense'\n",
        "# coly = 'Sp. Atk'\n",
        "# coly = 'Sp. Def'\n",
        "# coly = 'Speed'\n",
        "\n",
        "corte = df[colx].unique()\n",
        "\n",
        "color = iter(cm.rainbow(np.linspace(0, 1, len(corte))))\n",
        "\n",
        "for i in corte:\n",
        "    filtro = df[colx] == i\n",
        "    df0 = df[coly][filtro]\n",
        "\n",
        "    df0_mean = bootstrap_mean(df0)\n",
        "\n",
        "    LI = np.percentile(df0_mean, 2.5)\n",
        "    LS = np.percentile(df0_mean, 97.5)\n",
        "\n",
        "    n, bins, patches = plt.hist(df0_mean, bins=20, edgecolor='k', label=colx + ' = ' + str(i))\n",
        "\n",
        "    maior = n.max()\n",
        "\n",
        "    c = next(color)\n",
        "\n",
        "    plt.vlines(LI, ymin, maior, linestyles='--', label='IC dos países' + ' = ' + str(i), color=c)\n",
        "    plt.vlines(LS, ymin, maior, linestyles='--', color=c)\n",
        "\n",
        "plt.xlabel(coly)\n",
        "plt.ylabel('# de Países')\n",
        "plt.title('ICs do # de Suicídios e da Expectativa de Vida')\n",
        "\n",
        "plt.legend()\n",
        "\n",
        "despine()\n",
        "\n",
        "plt.show()"
      ],
      "execution_count": null,
      "outputs": [
        {
          "output_type": "display_data",
          "data": {
            "image/png": "[encoded data removed]",
            "text/plain": [
              "<Figure size 1152x720 with 1 Axes>"
            ]
          },
          "metadata": {
            "needs_background": "light"
          }
        }
      ]
    },
    {
      "cell_type": "markdown",
      "metadata": {
        "id": "fypekFq4Ejd8"
      },
      "source": [
        "O BoxPlot nos permite ver o mesmo que o último gráfico de uma forma diferente."
      ]
    },
    {
      "cell_type": "code",
      "metadata": {
        "id": "ij3SjJPuEjd8",
        "colab": {
          "base_uri": "https://localhost:8080/",
          "height": 621
        },
        "outputId": "ec8baa1a-a4be-447c-9596-81eb95e05649"
      },
      "source": [
        "corte = df[colx].unique()\n",
        "df1 = pd.DataFrame()\n",
        "\n",
        "for i in corte:\n",
        "    filtro = df[colx] == i\n",
        "    df0 = df[coly][filtro]\n",
        "\n",
        "    df0_mean = bootstrap_mean(df0)\n",
        "\n",
        "    df1[i] = df0_mean\n",
        "\n",
        "df1.boxplot(grid=False, sym='', whis=[2.5, 97.5], showmeans=True)\n",
        "\n",
        "plt.ylabel('GDP')\n",
        "plt.title('ICs do GDP e da Expectativa de Vida')\n",
        "\n",
        "despine()\n",
        "\n",
        "plt.show()"
      ],
      "execution_count": null,
      "outputs": [
        {
          "output_type": "display_data",
          "data": {
            "image/png": "[encoded data removed]",
            "text/plain": [
              "<Figure size 1152x720 with 1 Axes>"
            ]
          },
          "metadata": {
            "needs_background": "light"
          }
        }
      ]
    },
    {
      "cell_type": "code",
      "metadata": {
        "id": "2L_yQBZ43_yk",
        "colab": {
          "base_uri": "https://localhost:8080/",
          "height": 645
        },
        "outputId": "e2226121-5ebd-4cd1-93ed-41a1d49936fb"
      },
      "source": [
        "colx = 'Type 1'\n",
        "\n",
        "coly = 'Total'\n",
        "# coly = 'HP'\n",
        "# coly = 'Attack'\n",
        "# coly = 'Defense'\n",
        "# coly = 'Sp. Atk'\n",
        "# coly = 'Sp. Def'\n",
        "# coly = 'Speed'\n",
        "\n",
        "corte = ['Fire', 'Water']\n",
        "\n",
        "filtro = (df[colx] == corte[0]) | (df['Type 2'] == corte[0])\n",
        "df0 = df[coly][filtro]\n",
        "\n",
        "filtro = (df[colx] == corte[1]) | (df['Type 2'] == corte[1])\n",
        "df1 = df[coly][filtro]\n",
        "\n",
        "df0_mean = bootstrap_mean(df0)\n",
        "df1_mean = bootstrap_mean(df1)\n",
        "\n",
        "LI0 = np.percentile(df0_mean, 2.5)\n",
        "LS0 = np.percentile(df0_mean, 97.5)\n",
        "LI1 = np.percentile(df1_mean, 2.5)\n",
        "LS1 = np.percentile(df1_mean, 97.5)\n",
        "\n",
        "ymin = 0\n",
        "\n",
        "maior = []\n",
        "\n",
        "n, bins, patches = plt.hist(df0_mean, bins=20, edgecolor='k', label=colx + ' = ' + str(corte[0]))\n",
        "\n",
        "maior.append(n.max())\n",
        "\n",
        "n, bins, patches = plt.hist(df1_mean, bins=20, edgecolor='k', label=colx + ' = ' + str(corte[1]))\n",
        "\n",
        "maior.append(n.max())\n",
        "\n",
        "maior = np.max(maior)\n",
        "\n",
        "plt.vlines(LI0, ymin, maior, linestyles='--', label='IC dos países' + ' = ' + str(corte[0]), color='m')\n",
        "plt.vlines(LS0, ymin, maior, linestyles='--', edgecolor='m')\n",
        "plt.vlines(LI1, ymin, maior, linestyles='--', label='IC dos países' + ' = ' + str(corte[1]), color='y')\n",
        "plt.vlines(LS1, ymin, maior, linestyles='--', edgecolor='y')\n",
        "plt.xlabel(coly)\n",
        "plt.ylabel('# de Países')\n",
        "plt.title('ICs do # de Suicídios e da Expectativa de Vida')\n",
        "\n",
        "plt.legend()\n",
        "\n",
        "despine()\n",
        "\n",
        "plt.show()"
      ],
      "execution_count": null,
      "outputs": [
        {
          "output_type": "display_data",
          "data": {
            "image/png": "[encoded data removed]",
            "text/plain": [
              "<Figure size 1152x720 with 1 Axes>"
            ]
          },
          "metadata": {
            "needs_background": "light"
          }
        }
      ]
    },
    {
      "cell_type": "markdown",
      "metadata": {
        "id": "lGhXGadEE5JD"
      },
      "source": [
        "O BoxPlot nos permite ver o mesmo que o último gráfico de uma forma diferente."
      ]
    },
    {
      "cell_type": "code",
      "metadata": {
        "id": "XA-bTbwNE5JE",
        "colab": {
          "base_uri": "https://localhost:8080/",
          "height": 621
        },
        "outputId": "ec5660a6-b568-4b05-c1b8-7547429bcc4f"
      },
      "source": [
        "df2 = pd.DataFrame()\n",
        "\n",
        "df2['> Média'] = df0_mean\n",
        "df2['< Média'] = df1_mean\n",
        "\n",
        "df2.boxplot(grid=False, sym='', whis=[2.5, 97.5], showmeans=True)\n",
        "plt.ylabel('GDP')\n",
        "plt.title('ICs do GDP e da Expectativa de Vida')\n",
        "\n",
        "despine()\n",
        "\n",
        "plt.show()"
      ],
      "execution_count": null,
      "outputs": [
        {
          "output_type": "display_data",
          "data": {
            "image/png": "[encoded data removed]",
            "text/plain": [
              "<Figure size 1152x720 with 1 Axes>"
            ]
          },
          "metadata": {
            "needs_background": "light"
          }
        }
      ]
    },
    {
      "cell_type": "markdown",
      "metadata": {
        "id": "eOXAto-z6llm"
      },
      "source": [
        "### 5. Correlação entre Prevalência do HIV e Expectativa de Vida <a name=\"hivvida\"></a>\n",
        "\n",
        "Como esperado, parece existir uma correlação entre a Prevalência do HIV e a Expectativa de Vida de uma população. Esse dado é apenas uma curiosidade, já que estamos tentando ver quais fatores têm mais ou menos influência no GDP."
      ]
    },
    {
      "cell_type": "code",
      "metadata": {
        "id": "U_GiLHuDDYt-",
        "colab": {
          "base_uri": "https://localhost:8080/",
          "height": 646
        },
        "outputId": "2953bf8f-a8f0-4f62-f91e-b9aa4f0b8e54"
      },
      "source": [
        "colx = 'Total'\n",
        "# colx = 'HP'\n",
        "# colx = 'Attack'\n",
        "# colx = 'Defense'\n",
        "# colx = 'Sp. Atk'\n",
        "# colx = 'Sp. Def'\n",
        "# colx = 'Speed'\n",
        "# colx = 'Generation'\n",
        "# colx = 'Legendary'\n",
        "\n",
        "# coly = 'Total'\n",
        "coly = 'HP'\n",
        "# coly = 'Attack'\n",
        "# coly = 'Defense'\n",
        "# coly = 'Sp. Atk'\n",
        "# coly = 'Sp. Def'\n",
        "# coly = 'Speed'\n",
        "\n",
        "plt.scatter(df.dropna()[colx], df.dropna()[coly], edgecolors='k')\n",
        "plt.xlabel(colx)\n",
        "plt.ylabel(coly)\n",
        "plt.title('Expectativa de Vida x Prevalência do HIV')\n",
        "\n",
        "despine()\n",
        "\n",
        "plt.show()"
      ],
      "execution_count": null,
      "outputs": [
        {
          "output_type": "display_data",
          "data": {
            "image/png": "[encoded data removed]",
            "text/plain": [
              "<Figure size 1152x720 with 1 Axes>"
            ]
          },
          "metadata": {
            "needs_background": "light"
          }
        }
      ]
    },
    {
      "cell_type": "code",
      "metadata": {
        "id": "q5JIo9SB8FrG",
        "colab": {
          "base_uri": "https://localhost:8080/",
          "height": 621
        },
        "outputId": "edd51595-e7ad-40ba-b059-26b5883af9ed"
      },
      "source": [
        "col = 'Total'\n",
        "# col = 'HP'\n",
        "# col = 'Attack'\n",
        "# col = 'Defense'\n",
        "# col = 'Sp. Atk'\n",
        "# col = 'Sp. Def'\n",
        "# col = 'Speed'\n",
        "# col = 'Legendary'\n",
        "\n",
        "dx = df[['Generation', col]].groupby(by='Generation').mean()\n",
        "x = dx.index\n",
        "y = dx.values\n",
        "\n",
        "# plt.bar(x, y[:,0])\n",
        "plt.plot(dx)\n",
        "plt.title('Ano x Suicídios/100k')\n",
        "\n",
        "despine()\n",
        "\n",
        "plt.show()"
      ],
      "execution_count": null,
      "outputs": [
        {
          "output_type": "display_data",
          "data": {
            "image/png": "[encoded data removed]",
            "text/plain": [
              "<Figure size 1152x720 with 1 Axes>"
            ]
          },
          "metadata": {
            "needs_background": "light"
          }
        }
      ]
    },
    {
      "cell_type": "code",
      "metadata": {
        "id": "ds8wYFuUNBeJ",
        "colab": {
          "base_uri": "https://localhost:8080/",
          "height": 941
        },
        "outputId": "dba52387-8cc9-4317-9aa7-beb5f56b19ab"
      },
      "source": [
        "# colx = 'Total'\n",
        "colx = 'HP'\n",
        "# colx = 'Attack'\n",
        "# colx = 'Defense'\n",
        "# colx = 'Sp. Atk'\n",
        "# colx = 'Sp. Def'\n",
        "# colx = 'Speed'\n",
        "\n",
        "# coly = 'Total'\n",
        "# coly = 'HP'\n",
        "# coly = 'Attack'\n",
        "# coly = 'Defense'\n",
        "# coly = 'Sp. Atk'\n",
        "# coly = 'Sp. Def'\n",
        "coly = 'Speed'\n",
        "\n",
        "n_iters = 10\n",
        "\n",
        "color = iter(cm.rainbow(np.linspace(0, 1, n_iters)))\n",
        "\n",
        "X = df.dropna()[[colx]]\n",
        "y = df.dropna()[[coly]]\n",
        "\n",
        "X_sorted = X.sort_values(by=colx)\n",
        "y_sorted = y.sort_values(by=coly)\n",
        "\n",
        "sc = StandardScaler()\n",
        "for k in range(n_iters):\n",
        "    poly_features = PolynomialFeatures(degree=k+1, include_bias=False)\n",
        "    lin_reg = LinearRegression()\n",
        "\n",
        "    poly_reg_model = Pipeline([\n",
        "        ('std_scaler', sc),\n",
        "        ('poly', poly_features),\n",
        "        ('regressor', lin_reg)\n",
        "    ])\n",
        "    \n",
        "    poly_reg_model.fit(X, y)\n",
        "\n",
        "    y_hat = poly_reg_model.predict(X_sorted)\n",
        "    \n",
        "    c = next(color)\n",
        "    plt.plot(X_sorted, y_hat, color=c, label='Grau ' + str(k+1))\n",
        "    # print('Coeficientes:', lin_reg.coef_)\n",
        "    # print('Intercepto:', lin_reg.intercept_)\n",
        "\n",
        "    precision = poly_reg_model.score(X, y)\n",
        "\n",
        "    print('R2 grau', str(k + 1) + ':', precision)\n",
        "    print()\n",
        "\n",
        "plt.scatter(X, y, edgecolors='k')\n",
        "\n",
        "plt.legend()\n",
        "\n",
        "despine()\n",
        "\n",
        "plt.show()"
      ],
      "execution_count": null,
      "outputs": [
        {
          "output_type": "stream",
          "name": "stdout",
          "text": [
            "R2 grau 1: 0.07390428618873501\n",
            "\n",
            "R2 grau 2: 0.1077509500842524\n",
            "\n",
            "R2 grau 3: 0.10777648438203512\n",
            "\n",
            "R2 grau 4: 0.12500686719230847\n",
            "\n",
            "R2 grau 5: 0.12713511482197593\n",
            "\n",
            "R2 grau 6: 0.13123842238179606\n",
            "\n",
            "R2 grau 7: 0.13137389533163746\n",
            "\n",
            "R2 grau 8: 0.1399928861816263\n",
            "\n",
            "R2 grau 9: 0.14002977755804968\n",
            "\n",
            "R2 grau 10: 0.14098610751378693\n",
            "\n"
          ]
        },
        {
          "output_type": "display_data",
          "data": {
            "image/png": "[encoded data removed]",
            "text/plain": [
              "<Figure size 1152x720 with 1 Axes>"
            ]
          },
          "metadata": {
            "needs_background": "light"
          }
        }
      ]
    },
    {
      "cell_type": "code",
      "metadata": {
        "id": "e5sBLcG9pA0j"
      },
      "source": [
        "colx = 'GDP per capita'\n",
        "coly = 'HDI'\n",
        "\n",
        "X = df.dropna()[[colx]]\n",
        "y = df.dropna()[[coly]]\n",
        "\n",
        "X_sorted = X.sort_values(by=colx)\n",
        "y_sorted = y.sort_values(by=coly)\n",
        "\n",
        "X_log = np.log(X)\n",
        "X_log_sorted = np.log(X_sorted)\n",
        "\n",
        "for k in range(1):\n",
        "    sc = StandardScaler()\n",
        "\n",
        "    poly_features = PolynomialFeatures(degree=k+1, include_bias=False)\n",
        "    linear = LinearRegression()\n",
        "    lasso = GridSearchCV(Lasso(), cv=3, refit=True, param_grid={'alpha': [0.001, 0.01, 0.1, 1, 10, 100]})\n",
        "    ridge = GridSearchCV(Ridge(), cv=3, refit=True, param_grid={'alpha': [0.001, 0.01, 0.1, 1, 10, 100]})\n",
        "    knn = GridSearchCV(KNeighborsRegressor(), cv=3, refit=True, param_grid={'n_neighbors': [2, 3, 5, 7, 11, 13], 'weights': ['uniform', 'distance']})\n",
        "\n",
        "\n",
        "    poly_reg_model = Pipeline([\n",
        "        ('std_scaler', sc),\n",
        "        ('poly', poly_features),\n",
        "        ('regressor', linear)\n",
        "    ])\n",
        "\n",
        "    poly_reg_model.fit(X_log, y)\n",
        "\n",
        "    y_hat = poly_reg_model.predict(X_log_sorted)\n",
        "\n",
        "    plt.plot(X_sorted, y_hat, color='r', label='Log')\n",
        "    # print('Coeficientes:', lin_reg.coef_)\n",
        "    # print('Intercepto:', lin_reg.intercept_)\n",
        "\n",
        "    precision = poly_reg_model.score(X_log, y)\n",
        "\n",
        "    print('R2:', precision)\n",
        "\n",
        "plt.scatter(X, y, edgecolors='k')\n",
        "\n",
        "plt.legend()\n",
        "\n",
        "despine()\n",
        "\n",
        "plt.show()"
      ],
      "execution_count": null,
      "outputs": []
    },
    {
      "cell_type": "code",
      "metadata": {
        "id": "aZoFGfntCRrg"
      },
      "source": [
        "colx = 'GDP per capita'\n",
        "coly = 'HDI'\n",
        "\n",
        "X = np.log(df.dropna()[[colx]])\n",
        "y = df.dropna()[[coly]]\n",
        "\n",
        "X_train, X_test, y_train, y_test = train_test_split(X, y, test_size=0.3)\n",
        "\n",
        "sc = StandardScaler()\n",
        "\n",
        "poly_features = PolynomialFeatures(degree=1, include_bias=False)\n",
        "linear = LinearRegression()\n",
        "lasso = GridSearchCV(Lasso(), cv=3, refit=True, param_grid={'alpha': [0.001, 0.01, 0.1, 1, 10, 100]})\n",
        "ridge = GridSearchCV(Ridge(), cv=3, refit=True, param_grid={'alpha': [0.001, 0.01, 0.1, 1, 10, 100]})\n",
        "knn = GridSearchCV(KNeighborsRegressor(), cv=3, refit=True, param_grid={'n_neighbors': [2, 3, 5, 7, 11, 13], 'weights': ['uniform', 'distance']})\n",
        "\n",
        "poly_reg_model = Pipeline([\n",
        "    ('std_scaler', sc),\n",
        "    ('poly', poly_features),\n",
        "    ('regressor', knn)\n",
        "])\n",
        "\n",
        "poly_reg_model.fit(X_train, y_train)\n",
        "\n",
        "r2_values0 = bootstrap_score(X_train, y_train, poly_reg_model, n=1000)\n",
        "r2_values1 = bootstrap_score(X_test, y_test, poly_reg_model, n=1000)\n",
        "\n",
        "LI0 = np.percentile(r2_values0, 2.5)\n",
        "LS0 = np.percentile(r2_values0, 97.5)\n",
        "M0 = r2_values0.mean()\n",
        "\n",
        "LI1 = np.percentile(r2_values1, 2.5)\n",
        "LS1 = np.percentile(r2_values1, 97.5)\n",
        "M1 = r2_values1.mean()\n",
        "\n",
        "ymin = 0\n",
        "\n",
        "maior = []\n",
        "\n",
        "n, bins, patches = plt.hist(r2_values0, bins=30, label='Treino', edgecolor='k')\n",
        "\n",
        "maior.append(n.max())\n",
        "\n",
        "n, bins, patches = plt.hist(r2_values1, bins=30, label='Teste', edgecolor='k')\n",
        "\n",
        "maior.append(n.max())\n",
        "\n",
        "maior = np.max(maior)\n",
        "\n",
        "plt.vlines(LI0, ymin, maior, linestyles='--', label='IC do R2', color='m')\n",
        "plt.vlines(LS0, ymin, maior, linestyles='--', edgecolor='m')\n",
        "plt.vlines(M0, ymin, maior, linestyles='--', label='Média do Treino', color='r')\n",
        "plt.vlines(LI1, ymin, maior, linestyles='--', label='IC do R2', color='y')\n",
        "plt.vlines(LS1, ymin, maior, linestyles='--', edgecolor='y')\n",
        "plt.vlines(M1, ymin, maior, linestyles='--', label='Média do Teste', color='k')\n",
        "\n",
        "plt.xlabel('R2')\n",
        "plt.title('ICs do R2 da Regressão Linear nos Grupos de Treino e de Teste')\n",
        "\n",
        "plt.legend()\n",
        "\n",
        "despine()\n",
        "\n",
        "plt.show()\n"
      ],
      "execution_count": null,
      "outputs": []
    },
    {
      "cell_type": "markdown",
      "metadata": {
        "id": "4V_-cFZROCo4"
      },
      "source": [
        "# 6. Separação dos Grupos"
      ]
    },
    {
      "cell_type": "code",
      "metadata": {
        "id": "KLdZbCL8U0hE"
      },
      "source": [
        "df.columns"
      ],
      "execution_count": null,
      "outputs": []
    },
    {
      "cell_type": "markdown",
      "metadata": {
        "id": "CNIXW54pU70y"
      },
      "source": [
        "Regressão 100k (talvez GDP p/c ou até HDI)\n",
        "\n",
        "Class Sex, Age, Gen"
      ]
    },
    {
      "cell_type": "markdown",
      "metadata": {
        "id": "U0tw_UxgVLX4"
      },
      "source": [
        "## 1. Regressão em Suicides/100k"
      ]
    },
    {
      "cell_type": "markdown",
      "metadata": {
        "id": "VJxNr5CCGwBR"
      },
      "source": [
        "Separamos os grupos de treino e teste. Escolhemos deixar as duas colunas que contém outras informações sobre o GDP porque uma delas é relativa (e também depende do tamanho da população) e a outra não diz nada sobre o valor absoluto do GDP (por mais que seja mais difícil um GDP já alto crescer)."
      ]
    },
    {
      "cell_type": "markdown",
      "metadata": {
        "id": "AberBlBLuQG0"
      },
      "source": [
        "### 1. Versão com dropna"
      ]
    },
    {
      "cell_type": "code",
      "metadata": {
        "id": "nRo_wizRuDXt"
      },
      "source": [
        "X = df.copy()\n",
        "X = X.dropna()\n",
        "y = X['Suicides/100k']\n",
        "\n",
        "X = X.drop(['Suicides/100k', 'Country'], axis=1)"
      ],
      "execution_count": null,
      "outputs": []
    },
    {
      "cell_type": "markdown",
      "metadata": {
        "id": "V6Hr4yWOuTr7"
      },
      "source": [
        "### 2. Versão com fillna"
      ]
    },
    {
      "cell_type": "code",
      "metadata": {
        "id": "QIp-jcHnGe-R"
      },
      "source": [
        "# X = df.copy()\n",
        "# X = X.drop(['Suicides/100k', 'Country'], axis=1)\n",
        "# X['HDI'] = X['HDI'].fillna(X['HDI'].mean())\n",
        "\n",
        "# y = df['Suicides/100k']"
      ],
      "execution_count": null,
      "outputs": []
    },
    {
      "cell_type": "markdown",
      "metadata": {
        "id": "ALr0fppCuWjb"
      },
      "source": [
        "### 3. Continuação"
      ]
    },
    {
      "cell_type": "code",
      "metadata": {
        "id": "Hi8uPqxFYivU"
      },
      "source": [
        "non_strings = []\n",
        "\n",
        "for i, col in enumerate(X.columns):\n",
        "    if X.dtypes[i] != np.dtype('object'):\n",
        "        non_strings.append(col)"
      ],
      "execution_count": null,
      "outputs": []
    },
    {
      "cell_type": "code",
      "metadata": {
        "id": "MQLgvpTnsFzQ"
      },
      "source": [
        "df.columns"
      ],
      "execution_count": null,
      "outputs": []
    },
    {
      "cell_type": "code",
      "metadata": {
        "id": "5EAqDG0FYnSs"
      },
      "source": [
        "X_train, X_test, y_train, y_test = train_test_split(X, y, test_size=0.3)\n",
        "\n",
        "non_strings = non_strings[:-1]\n",
        "mean_train = X_train[non_strings].mean()\n",
        "std_train = X_train[non_strings].std(ddof=1)\n",
        "\n",
        "Z_train = X_train.copy()\n",
        "Z_train[non_strings] = Z_train[non_strings] - mean_train\n",
        "Z_train[non_strings] = Z_train[non_strings] / std_train\n",
        "\n",
        "Z_test = X_test.copy()\n",
        "Z_test[non_strings] = Z_test[non_strings] - mean_train\n",
        "Z_test[non_strings] = Z_test[non_strings] / std_train"
      ],
      "execution_count": null,
      "outputs": []
    },
    {
      "cell_type": "markdown",
      "metadata": {
        "id": "vlrs7jXGi5_s"
      },
      "source": [
        "Transformamos as colunas categóricas em numéricas."
      ]
    },
    {
      "cell_type": "code",
      "metadata": {
        "id": "pqL1uppUdOj0"
      },
      "source": [
        "D_train = pd.get_dummies(Z_train, prefix='', prefix_sep='')\n",
        "D_test = pd.get_dummies(Z_test, prefix='', prefix_sep='')"
      ],
      "execution_count": null,
      "outputs": []
    },
    {
      "cell_type": "markdown",
      "metadata": {
        "id": "ysbO0-mGOTzn"
      },
      "source": [
        "# 7. Fit dos Modelos"
      ]
    },
    {
      "cell_type": "markdown",
      "metadata": {
        "id": "fx7XByxRPGdH"
      },
      "source": [
        "Usamos o SKLearn, de novo, para fazer a Regressão Linear Múltipla e mostramos os coeficientes para cada coluna do DataFrame de teste.\n",
        "\n"
      ]
    },
    {
      "cell_type": "code",
      "metadata": {
        "id": "9ve_ivXCWiZG"
      },
      "source": [
        "linear = LinearRegression(fit_intercept=False)\n",
        "lasso = GridSearchCV(Lasso(fit_intercept=False), cv=3, refit=True, param_grid={'alpha': [0.001, 0.01, 0.1, 1, 10, 100]})\n",
        "ridge = GridSearchCV(Ridge(fit_intercept=False), cv=3, refit=True, param_grid={'alpha': [0.001, 0.01, 0.1, 1, 10, 100]})\n",
        "knn = GridSearchCV(KNeighborsRegressor(), cv=3, refit=True, param_grid={'n_neighbors': [2, 3, 5, 7, 11, 13], 'weights': ['uniform', 'distance']})"
      ],
      "execution_count": null,
      "outputs": []
    },
    {
      "cell_type": "markdown",
      "metadata": {
        "id": "x59E1uZdHFBt"
      },
      "source": [
        "Fazemos, então o fit de cada modelo e mostramos seu Coeficiente de Determinação."
      ]
    },
    {
      "cell_type": "code",
      "metadata": {
        "id": "4nmnXGF5xrUW"
      },
      "source": [
        "linear = linear.fit(D_train, y_train)\n",
        "linear.score(D_train, y_train)"
      ],
      "execution_count": null,
      "outputs": []
    },
    {
      "cell_type": "code",
      "metadata": {
        "id": "IKFkPwmjy4xd"
      },
      "source": [
        "lasso = lasso.fit(D_train, y_train)\n",
        "lasso.score(D_train, y_train)"
      ],
      "execution_count": null,
      "outputs": []
    },
    {
      "cell_type": "markdown",
      "metadata": {
        "id": "3xHQwlZ-HVL5"
      },
      "source": [
        "Nos casos do Lasso, Ridge e KNN mostramos também os melhores hiper-parâmetros."
      ]
    },
    {
      "cell_type": "code",
      "metadata": {
        "id": "AbF8d7yy6m2z"
      },
      "source": [
        "lasso.best_params_"
      ],
      "execution_count": null,
      "outputs": []
    },
    {
      "cell_type": "code",
      "metadata": {
        "id": "Xa53mBPLy458"
      },
      "source": [
        "ridge = ridge.fit(D_train, y_train)\n",
        "ridge.score(D_train, y_train)"
      ],
      "execution_count": null,
      "outputs": []
    },
    {
      "cell_type": "code",
      "metadata": {
        "id": "k-kUMvkV6olT"
      },
      "source": [
        "ridge.best_params_"
      ],
      "execution_count": null,
      "outputs": []
    },
    {
      "cell_type": "code",
      "metadata": {
        "id": "7qCoOX6zy5Ek"
      },
      "source": [
        "knn = knn.fit(D_train, y_train)\n",
        "knn.score(D_train, y_train)"
      ],
      "execution_count": null,
      "outputs": []
    },
    {
      "cell_type": "code",
      "metadata": {
        "id": "gTREkVI_6qir"
      },
      "source": [
        "knn.best_params_"
      ],
      "execution_count": null,
      "outputs": []
    },
    {
      "cell_type": "markdown",
      "metadata": {
        "id": "-WPM_sdpOgNr"
      },
      "source": [
        "# 8. Avaliação dos Modelos"
      ]
    },
    {
      "cell_type": "markdown",
      "metadata": {
        "id": "4fmCp_MOEAJz"
      },
      "source": [
        "Para fazer a avaliação dos diferentes modelos usados nesse notebook, iremos utilizar o Erro Médio Quadrado. Quanto maior o erro, pior é o modelo, o ideal é um erro 0."
      ]
    },
    {
      "cell_type": "markdown",
      "metadata": {
        "id": "N_7-TvvU7trV"
      },
      "source": [
        "## 2. Avaliação Usando o Grupo de Teste\n",
        "\n",
        "Agora uma avaliação com os dados do grupo de teste, simulando, assim, uma situação do mundo real, na qual não sabemos a resposta de antemão.\n",
        "\n",
        "Primeiro Z-normalizamos os dados do teste com a média e o desvio padrão dos dados de treino, de forma a não utilizar nenhuma informação do treino, no teste."
      ]
    },
    {
      "cell_type": "markdown",
      "metadata": {
        "id": "JcKYkzPNDYvz"
      },
      "source": [
        "### 1. Regressão Linear no Grupo de Teste\n",
        "\n",
        "Fazemos uma comparação do grupo de treino e o de teste, usando bootstrap.\n",
        "\n",
        "Como esperado, o IC do grupo de teste é bem maior, e no caso da Regressão Linear, a performance não foi tão boa no grupo de teste."
      ]
    },
    {
      "cell_type": "code",
      "metadata": {
        "id": "Q_HS0QdP_YZL"
      },
      "source": [
        "r2_values0 = bootstrap_score(D_train, y_train, linear)\n",
        "r2_values1 = bootstrap_score(D_test, y_test, linear)\n",
        "\n",
        "LI0 = np.percentile(r2_values0, 2.5)\n",
        "LS0 = np.percentile(r2_values0, 97.5)\n",
        "LI1 = np.percentile(r2_values1, 2.5)\n",
        "LS1 = np.percentile(r2_values1, 97.5)\n",
        "\n",
        "ymin = 0\n",
        "\n",
        "maior = []\n",
        "\n",
        "n, bins, patches = plt.hist(r2_values0, bins=30, label='Treino', edgecolor='k')\n",
        "\n",
        "maior.append(n.max())\n",
        "\n",
        "n, bins, patches = plt.hist(r2_values1, bins=30, label='Teste', edgecolor='k')\n",
        "\n",
        "maior.append(n.max())\n",
        "\n",
        "maior = np.max(maior)\n",
        "\n",
        "plt.vlines(LI0, ymin, maior, linestyles='--', label='IC do R2', color='m')\n",
        "plt.vlines(LS0, ymin, maior, linestyles='--', edgecolor='m')\n",
        "plt.vlines(LI1, ymin, maior, linestyles='--', label='IC do R2', color='y')\n",
        "plt.vlines(LS1, ymin, maior, linestyles='--', edgecolor='y')\n",
        "\n",
        "plt.xlabel('R2')\n",
        "plt.title('ICs do R2 da Regressão Linear nos Grupos de Treino e de Teste')\n",
        "\n",
        "plt.legend()\n",
        "\n",
        "despine()\n",
        "\n",
        "plt.show()"
      ],
      "execution_count": null,
      "outputs": []
    },
    {
      "cell_type": "markdown",
      "metadata": {
        "id": "bMif7riqDgrV"
      },
      "source": [
        "### 2. Lasso no Grupo de Teste\n",
        "\n",
        "O IC do Lasso aumenta bastante também, e ele piora em relação à Regressão Linear."
      ]
    },
    {
      "cell_type": "code",
      "metadata": {
        "id": "-xQkwsRw_6R5"
      },
      "source": [
        "r2_values0 = bootstrap_score(D_train, y_train, lasso)\n",
        "r2_values1 = bootstrap_score(D_test, y_test, lasso)\n",
        "\n",
        "LI0 = np.percentile(r2_values0, 2.5)\n",
        "LS0 = np.percentile(r2_values0, 97.5)\n",
        "LI1 = np.percentile(r2_values1, 2.5)\n",
        "LS1 = np.percentile(r2_values1, 97.5)\n",
        "\n",
        "ymin = 0\n",
        "\n",
        "maior = []\n",
        "\n",
        "n, bins, patches = plt.hist(r2_values0, bins=30, label='Treino', edgecolor='k')\n",
        "\n",
        "maior.append(n.max())\n",
        "\n",
        "n, bins, patches = plt.hist(r2_values1, bins=30, label='Teste', edgecolor='k')\n",
        "\n",
        "maior.append(n.max())\n",
        "\n",
        "maior = np.max(maior)\n",
        "\n",
        "plt.vlines(LI0, ymin, maior, linestyles='--', label='IC do R2', color='m')\n",
        "plt.vlines(LS0, ymin, maior, linestyles='--', edgecolor='m')\n",
        "plt.vlines(LI1, ymin, maior, linestyles='--', label='IC do R2', color='y')\n",
        "plt.vlines(LS1, ymin, maior, linestyles='--', edgecolor='y')\n",
        "\n",
        "plt.xlabel('R2')\n",
        "plt.title('ICs do R2 do Lasso nos Grupos de Treino e de Teste')\n",
        "\n",
        "plt.legend()\n",
        "\n",
        "despine()\n",
        "\n",
        "plt.show()"
      ],
      "execution_count": null,
      "outputs": []
    },
    {
      "cell_type": "markdown",
      "metadata": {
        "id": "ma5ILeyLDoMU"
      },
      "source": [
        "### 3. Ridge no Grupo de Teste\n",
        "\n",
        "Já o Ridge melhora bastante, e mostra que é bom generalizador, já que seus ICs são os mais parecidos em tamanho, até agora."
      ]
    },
    {
      "cell_type": "code",
      "metadata": {
        "id": "ahYsGphr__MB"
      },
      "source": [
        "r2_values0 = bootstrap_score(D_train, y_train, ridge)\n",
        "r2_values1 = bootstrap_score(D_test, y_test, ridge)\n",
        "\n",
        "LI0 = np.percentile(r2_values0, 2.5)\n",
        "LS0 = np.percentile(r2_values0, 97.5)\n",
        "LI1 = np.percentile(r2_values1, 2.5)\n",
        "LS1 = np.percentile(r2_values1, 97.5)\n",
        "\n",
        "ymin = 0\n",
        "\n",
        "maior = []\n",
        "\n",
        "n, bins, patches = plt.hist(r2_values0, bins=30, label='Treino', edgecolor='k')\n",
        "\n",
        "maior.append(n.max())\n",
        "\n",
        "n, bins, patches = plt.hist(r2_values1, bins=30, label='Teste', edgecolor='k')\n",
        "\n",
        "maior.append(n.max())\n",
        "\n",
        "maior = np.max(maior)\n",
        "\n",
        "plt.vlines(LI0, ymin, maior, linestyles='--', label='IC do R2', color='m')\n",
        "plt.vlines(LS0, ymin, maior, linestyles='--', edgecolor='m')\n",
        "plt.vlines(LI1, ymin, maior, linestyles='--', label='IC do R2', color='y')\n",
        "plt.vlines(LS1, ymin, maior, linestyles='--', edgecolor='y')\n",
        "\n",
        "plt.xlabel('R2')\n",
        "plt.title('ICs do R2 do Ridge nos Grupos de Treino e de Teste')\n",
        "\n",
        "plt.legend()\n",
        "\n",
        "despine()\n",
        "\n",
        "plt.show()"
      ],
      "execution_count": null,
      "outputs": []
    },
    {
      "cell_type": "markdown",
      "metadata": {
        "id": "j9m8IX6QDr-y"
      },
      "source": [
        "### 4. KNN no Grupo de Teste\n",
        "\n",
        "Como se esperava, o KNN decorou os dados de treino e não sabe generalizar, se mostrando pior que a Regressão Linear que é bem mais simples e rápida.\n",
        "\n",
        "O gráfico foi cortado para permitir a visualização da distribuição do MSE do grupo de teste."
      ]
    },
    {
      "cell_type": "code",
      "metadata": {
        "id": "KGVBjhuaAKbJ"
      },
      "source": [
        "r2_values0 = bootstrap_score(D_train, y_train, knn)\n",
        "r2_values1 = bootstrap_score(D_test, y_test, knn)\n",
        "\n",
        "LI0 = np.percentile(r2_values0, 2.5)\n",
        "LS0 = np.percentile(r2_values0, 97.5)\n",
        "LI1 = np.percentile(r2_values1, 2.5)\n",
        "LS1 = np.percentile(r2_values1, 97.5)\n",
        "\n",
        "ymin = 0\n",
        "\n",
        "maior = []\n",
        "\n",
        "n, bins, patches = plt.hist(r2_values0, bins=30, label='Treino', edgecolor='k')\n",
        "\n",
        "maior.append(n.max())\n",
        "\n",
        "n, bins, patches = plt.hist(r2_values1, bins=30, label='Teste', edgecolor='k')\n",
        "\n",
        "maior.append(n.max())\n",
        "\n",
        "maior = np.max(maior)\n",
        "\n",
        "plt.vlines(LI0, ymin, maior, linestyles='--', label='IC do R2', color='m')\n",
        "plt.vlines(LS0, ymin, maior, linestyles='--', edgecolor='m')\n",
        "plt.vlines(LI1, ymin, maior, linestyles='--', label='IC do R2', color='y')\n",
        "plt.vlines(LS1, ymin, maior, linestyles='--', edgecolor='y')\n",
        "\n",
        "plt.xlabel('R2')\n",
        "plt.title('ICs do R2 do KNN nos Grupos de Treino e de Teste')\n",
        "\n",
        "plt.legend()\n",
        "\n",
        "despine()\n",
        "\n",
        "plt.show()"
      ],
      "execution_count": null,
      "outputs": []
    },
    {
      "cell_type": "markdown",
      "metadata": {
        "id": "7yYoNNLAI_df"
      },
      "source": [
        "## 3. Melhor Modelo e Parâmetros\n",
        "\n",
        "O Ridge se mostrou o melhor modelo para generalizar o aprendizado obtido com os dados de treino."
      ]
    },
    {
      "cell_type": "markdown",
      "metadata": {
        "id": "5lOZW97aje2b"
      },
      "source": [
        "# 9. Conclusão <a name=\"concl\"></a>"
      ]
    },
    {
      "cell_type": "markdown",
      "metadata": {
        "id": "CcIGc-pQje2b"
      },
      "source": [
        "O projeto criou oportunidades para o aprendizado de várias técnicas, conceitos e ferramentas do arcabouço de Ciência de Dados. Além do mais, foi possível perceber a importância de apresentar os dados de forma a aumentar a legibilidade deles pelo leitor.\n",
        "\n",
        "Autor: Lucas S. Teles"
      ]
    }
  ]
}